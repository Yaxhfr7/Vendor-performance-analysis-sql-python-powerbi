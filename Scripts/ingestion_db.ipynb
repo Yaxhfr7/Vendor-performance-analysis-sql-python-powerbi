{
 "cells": [
  {
   "cell_type": "code",
   "execution_count": 1,
   "id": "982f67d1",
   "metadata": {},
   "outputs": [],
   "source": [
    "import pandas as pd\n",
    "import os\n",
    "from sqlalchemy import create_engine\n",
    "import logging\n",
    "import time\n",
    "import os\n",
    "os.makedirs(\"logs\", exist_ok=True)\n",
    "\n",
    "logging.basicConfig(\n",
    "    filename=\"logs/ingestion_db.log\",\n",
    "    level= logging.DEBUG,\n",
    "    format='%(asctime)s - %(levelname)s - %(message)s',\n",
    "    filemode='a')\n",
    "\n",
    "engine = create_engine('sqlite:///inventory.db')\n",
    "folder = r'C:\\Users\\YASH TYAGI\\OneDrive\\Dokumen\\vendor perform analysis\\data'\n",
    "def ingest_db(df, table_name,engine):\n",
    "    #this function will ingest data frame into database table\n",
    "    df.to_sql(table_name, engine, if_exists='replace', index=False)\n",
    "\n",
    "def load_raw_data():\n",
    "    #this function will load the csvs as dataframe and ingest into db\n",
    "    start = time.time()\n",
    "    for file in os.listdir(folder):\n",
    "        if file.endswith('.csv'):\n",
    "            filepath = os.path.join(folder, file)\n",
    "            df = pd.read_csv(filepath)\n",
    "            logging.info(f'ingesting{file}in db')\n",
    "            ingest_db(df, file[:-4],engine)\n",
    "    end = time.time()\n",
    "    total_time = (end - start)/60\n",
    "    logging.info('Ingestion complete')\n",
    "    logging.info(f'Total time taken for ingestion is {total_time} minutes')\n",
    "\n",
    "if __name__ == '__main__':\n",
    "    load_raw_data()"
   ]
  }
 ],
 "metadata": {
  "kernelspec": {
   "display_name": "Python 3",
   "language": "python",
   "name": "python3"
  },
  "language_info": {
   "codemirror_mode": {
    "name": "ipython",
    "version": 3
   },
   "file_extension": ".py",
   "mimetype": "text/x-python",
   "name": "python",
   "nbconvert_exporter": "python",
   "pygments_lexer": "ipython3",
   "version": "3.11.9"
  }
 },
 "nbformat": 4,
 "nbformat_minor": 5
}
